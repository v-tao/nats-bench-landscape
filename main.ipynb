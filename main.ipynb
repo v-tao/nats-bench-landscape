{
 "cells": [
  {
   "cell_type": "code",
   "execution_count": 1,
   "id": "693e40fe-c135-4e03-a70a-c3d00bd886c4",
   "metadata": {},
   "outputs": [],
   "source": [
    "%load_ext autoreload\n",
    "%autoreload 2"
   ]
  },
  {
   "cell_type": "code",
   "execution_count": 2,
   "id": "8ac6817b-1d3b-448b-8f8b-dd6965a84c71",
   "metadata": {},
   "outputs": [],
   "source": [
    "import pandas as pd\n",
    "import numpy as np\n",
    "import os\n",
    "import random\n",
    "from modules.FitnessLandscapeAnalysis import FitnessLandscapeAnalysis"
   ]
  },
  {
   "cell_type": "code",
   "execution_count": 3,
   "id": "46f2deec-159f-4ce9-b2db-01ed66172ede",
   "metadata": {},
   "outputs": [],
   "source": [
    "random.seed(0)\n",
    "df = pd.read_csv(\"nats_bench.csv\")\n",
    "genotypes = list(df[\"ArchitectureString\"].values)\n",
    "phenotypes = list(df[\"UniqueString\"].values)"
   ]
  },
  {
   "cell_type": "code",
   "execution_count": 4,
   "id": "d8342eef-af4a-49da-8896-74bf231173b1",
   "metadata": {},
   "outputs": [],
   "source": [
    "CIFAR10_FLA = FitnessLandscapeAnalysis(df[\"CIFAR10TestAccuracy200Epochs\"], genotypes, phenotypes, \"CIFAR10\")\n",
    "# CIFAR10_FLA.collect_data()\n",
    "CIFAR10_FLA.run_analysis()\n",
    "# CIFAR10_FLA.generate_visualizations()"
   ]
  },
  {
   "cell_type": "code",
   "execution_count": 5,
   "id": "47255c55-da0a-4a4a-b205-47a33f8d497a",
   "metadata": {},
   "outputs": [],
   "source": [
    "CIFAR100_FLA = FitnessLandscapeAnalysis(df[\"CIFAR100TestAccuracy200Epochs\"], genotypes, phenotypes, \"CIFAR100\")\n",
    "# CIFAR100_FLA.collect_data()\n",
    "CIFAR100_FLA.run_analysis()\n",
    "# CIFAR100_FLA.generate_visualizations()"
   ]
  },
  {
   "cell_type": "code",
   "execution_count": 6,
   "id": "03bf5c62-e654-4c89-bfee-dcfd359fe650",
   "metadata": {},
   "outputs": [],
   "source": [
    "ImageNet_FLA = FitnessLandscapeAnalysis(df[\"ImageNetTestAccuracy200Epochs\"], genotypes, phenotypes, \"ImageNet\")\n",
    "# ImageNet_FLA.collect_data()\n",
    "ImageNet_FLA.run_analysis()\n",
    "# ImageNet_FLA.generate_visualizations()"
   ]
  },
  {
   "cell_type": "code",
   "execution_count": null,
   "id": "37025e54-07f0-4807-866a-cdfe6d2b6f26",
   "metadata": {},
   "outputs": [],
   "source": []
  }
 ],
 "metadata": {
  "kernelspec": {
   "display_name": "Python 3 (ipykernel)",
   "language": "python",
   "name": "python3"
  },
  "language_info": {
   "codemirror_mode": {
    "name": "ipython",
    "version": 3
   },
   "file_extension": ".py",
   "mimetype": "text/x-python",
   "name": "python",
   "nbconvert_exporter": "python",
   "pygments_lexer": "ipython3",
   "version": "3.9.12"
  }
 },
 "nbformat": 4,
 "nbformat_minor": 5
}
