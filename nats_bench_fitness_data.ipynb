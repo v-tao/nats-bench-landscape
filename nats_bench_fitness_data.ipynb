{
 "cells": [
  {
   "cell_type": "code",
   "execution_count": 1,
   "id": "3808775c-e5cd-4696-bdfe-c053c4ec155e",
   "metadata": {},
   "outputs": [],
   "source": [
    "from nats_bench import create\n",
    "import pandas as pd\n",
    "from tqdm import tqdm"
   ]
  },
  {
   "cell_type": "code",
   "execution_count": 4,
   "id": "2c33b82a-0362-47a5-872a-d0e7b78d7e94",
   "metadata": {},
   "outputs": [],
   "source": [
    "api = create(None, 'tss', fast_mode=True, verbose=False)"
   ]
  },
  {
   "cell_type": "code",
   "execution_count": 5,
   "id": "ffec86ab-3b2d-4674-9ad9-ced128afb07e",
   "metadata": {},
   "outputs": [
    {
     "name": "stderr",
     "output_type": "stream",
     "text": [
      "100%|███████████████████████████████████████████████████████████████████████████████████████████████| 15625/15625 [04:43<00:00, 55.05it/s]\n"
     ]
    }
   ],
   "source": [
    "data = []\n",
    "for i in tqdm(range(15625)):\n",
    "    data.append({\n",
    "        \"CIFAR10TestAccuracy200Epochs\": api.get_more_info(i, \"cifar10\", hp=200, is_random=False)['test-accuracy'],\n",
    "        \"CIFAR100TestAccuracy200Epochs\": api.get_more_info(i, \"cifar100\", hp=200, is_random=False)['test-accuracy'],\n",
    "        \"ImageNetTestAccuracy200Epochs\": api.get_more_info(i, \"ImageNet16-120\", hp=200, is_random=False)['test-accuracy'],\n",
    "        \"ArchitectureString\": api.arch(i),\n",
    "        \"UniqueString\": api.get_unique_str(i)\n",
    "    })\n",
    "df = pd.DataFrame(data)\n",
    "df.to_csv(\"nats_bench.csv\", index=False)"
   ]
  },
  {
   "cell_type": "code",
   "execution_count": null,
   "id": "ce086985-e20a-41c1-9e80-18c035e1a733",
   "metadata": {},
   "outputs": [],
   "source": []
  }
 ],
 "metadata": {
  "kernelspec": {
   "display_name": "Python 3 (ipykernel)",
   "language": "python",
   "name": "python3"
  },
  "language_info": {
   "codemirror_mode": {
    "name": "ipython",
    "version": 3
   },
   "file_extension": ".py",
   "mimetype": "text/x-python",
   "name": "python",
   "nbconvert_exporter": "python",
   "pygments_lexer": "ipython3",
   "version": "3.9.12"
  }
 },
 "nbformat": 4,
 "nbformat_minor": 5
}
